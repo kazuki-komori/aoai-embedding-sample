{
 "cells": [
  {
   "cell_type": "markdown",
   "metadata": {},
   "source": [
    "## AzureOpenAIのセットアップ "
   ]
  },
  {
   "cell_type": "code",
   "execution_count": 4,
   "metadata": {},
   "outputs": [],
   "source": [
    "from openai import AzureOpenAI\n",
    "\n",
    "client = AzureOpenAI(\n",
    "    api_key=\"\",\n",
    "    api_version=\"2024-06-01\",\n",
    "    azure_endpoint=\"\"    \n",
    ")"
   ]
  },
  {
   "cell_type": "markdown",
   "metadata": {},
   "source": [
    "## 文章をベクトル化する関数の作成"
   ]
  },
  {
   "cell_type": "code",
   "execution_count": 14,
   "metadata": {},
   "outputs": [],
   "source": [
    "def get_embeddings(text: str):\n",
    "    # 3072 次元にテキストを埋め込む\n",
    "    embedding_response = client.embeddings.create(\n",
    "        input=text,\n",
    "        model=\"text-embedding-3-large\"\n",
    "    )\n",
    "    return embedding_response.data[0].embedding"
   ]
  },
  {
   "cell_type": "markdown",
   "metadata": {},
   "source": [
    "## 実際に文章をベクトル化してみる"
   ]
  },
  {
   "cell_type": "code",
   "execution_count": null,
   "metadata": {},
   "outputs": [],
   "source": [
    "import pandas as pd\n",
    "\n",
    "# ニュースタイトルのリスト\n",
    "news_title_list = [\n",
    "    # 不動産市場に関するニュース\n",
    "    \"東京の不動産市場、2024年の成長予測発表\",\n",
    "    \"2024年、東京の不動産価格が急騰する見込み\",\n",
    "    \"新たな報告書によると、東京の不動産市場が成長中\",\n",
    "    # AI に関するニュース\n",
    "    \"AI技術の進化、次世代ロボットが登場\",\n",
    "    \"AI とロボット技術の進化、2025年の未来予測\",\n",
    "    # 気候変動に関するニュース\n",
    "    \"気候変動による海面上昇、2025年までに深刻化\",\n",
    "]\n",
    "\n",
    "df_embeddings = pd.DataFrame([get_embeddings(title) for title in news_title_list])\n",
    "df_embeddings"
   ]
  },
  {
   "cell_type": "markdown",
   "metadata": {},
   "source": [
    "## ベクトルから t-SNE で次元削減して可視化"
   ]
  },
  {
   "cell_type": "code",
   "execution_count": null,
   "metadata": {},
   "outputs": [],
   "source": [
    "# t-sne で次元削減して可視化\n",
    "from sklearn.manifold import TSNE\n",
    "import matplotlib.pyplot as plt\n",
    "\n",
    "tsne = TSNE(n_components=2, random_state=0, perplexity=2)\n",
    "tsne_embeddings = tsne.fit_transform(df_embeddings)\n",
    "\n",
    "plt.figure(figsize=(10, 10))\n",
    "plt.scatter(tsne_embeddings[:, 0], tsne_embeddings[:, 1], s=200)\n",
    "for i, title in enumerate(news_title_list):\n",
    "    plt.annotate(title, (tsne_embeddings[i, 0], tsne_embeddings[i, 1]), fontsize=16)\n",
    "plt.show()"
   ]
  }
 ],
 "metadata": {
  "kernelspec": {
   "display_name": ".venv",
   "language": "python",
   "name": "python3"
  },
  "language_info": {
   "codemirror_mode": {
    "name": "ipython",
    "version": 3
   },
   "file_extension": ".py",
   "mimetype": "text/x-python",
   "name": "python",
   "nbconvert_exporter": "python",
   "pygments_lexer": "ipython3",
   "version": "3.12.4"
  }
 },
 "nbformat": 4,
 "nbformat_minor": 2
}
